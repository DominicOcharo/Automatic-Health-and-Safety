{
 "cells": [
  {
   "cell_type": "code",
   "execution_count": 1,
   "metadata": {},
   "outputs": [
    {
     "name": "stdout",
     "output_type": "stream",
     "text": [
      "Ultralytics YOLOv8.0.239 🚀 Python-3.8.19 torch-2.3.1+cpu CPU (Intel Core(TM) i7-8650U 1.90GHz)\n",
      "Model summary (fused): 268 layers, 43614318 parameters, 0 gradients, 164.9 GFLOPs\n",
      "\n",
      "\u001b[34m\u001b[1mPyTorch:\u001b[0m starting from 'training_results\\Construction_Site_Safety\\weights\\best.pt' with input shape (1, 3, 640, 640) BCHW and output shape(s) (1, 14, 8400) (83.6 MB)\n",
      "\n",
      "\u001b[34m\u001b[1mONNX:\u001b[0m starting export with onnx 1.16.2 opset 17...\n",
      "\u001b[34m\u001b[1mONNX:\u001b[0m export success ✅ 7.6s, saved as 'training_results\\Construction_Site_Safety\\weights\\best.onnx' (166.6 MB)\n",
      "\n",
      "Export complete (17.6s)\n",
      "Results saved to \u001b[1mC:\\Users\\Admin\\Downloads\\model_1\\training_results\\Construction_Site_Safety\\weights\u001b[0m\n",
      "Predict:         yolo predict task=detect model=training_results\\Construction_Site_Safety\\weights\\best.onnx imgsz=640  \n",
      "Validate:        yolo val task=detect model=training_results\\Construction_Site_Safety\\weights\\best.onnx imgsz=640 data=../content/drive/MyDrive/Datasets/ConstructionSafety/data.yaml  \n",
      "Visualize:       https://netron.app\n"
     ]
    },
    {
     "data": {
      "text/plain": [
       "'training_results\\\\Construction_Site_Safety\\\\weights\\\\best.onnx'"
      ]
     },
     "execution_count": 1,
     "metadata": {},
     "output_type": "execute_result"
    }
   ],
   "source": [
    "from ultralytics import YOLO\n",
    "\n",
    "# Load a model\n",
    "model = YOLO(r\".\\training_results\\Construction_Site_Safety\\weights\\best.pt\")\n",
    "\n",
    "# Export the model\n",
    "model.export(format=\"onnx\")"
   ]
  },
  {
   "cell_type": "code",
   "execution_count": null,
   "metadata": {},
   "outputs": [],
   "source": []
  }
 ],
 "metadata": {
  "kernelspec": {
   "display_name": "Ver",
   "language": "python",
   "name": "python3"
  },
  "language_info": {
   "codemirror_mode": {
    "name": "ipython",
    "version": 3
   },
   "file_extension": ".py",
   "mimetype": "text/x-python",
   "name": "python",
   "nbconvert_exporter": "python",
   "pygments_lexer": "ipython3",
   "version": "3.8.19"
  }
 },
 "nbformat": 4,
 "nbformat_minor": 2
}
